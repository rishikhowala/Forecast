{
 "cells": [
  {
   "cell_type": "code",
   "execution_count": 1,
   "id": "7a5fbd67",
   "metadata": {
    "_cell_guid": "b1076dfc-b9ad-4769-8c92-a6c4dae69d19",
    "_uuid": "8f2839f25d086af736a60e9eeb907d3b93b6e0e5",
    "execution": {
     "iopub.execute_input": "2023-10-23T18:06:45.951278Z",
     "iopub.status.busy": "2023-10-23T18:06:45.950730Z",
     "iopub.status.idle": "2023-10-23T18:06:46.473461Z",
     "shell.execute_reply": "2023-10-23T18:06:46.469549Z"
    },
    "papermill": {
     "duration": 0.537385,
     "end_time": "2023-10-23T18:06:46.477882",
     "exception": false,
     "start_time": "2023-10-23T18:06:45.940497",
     "status": "completed"
    },
    "tags": []
   },
   "outputs": [
    {
     "name": "stdout",
     "output_type": "stream",
     "text": [
      "/kaggle/input/store-sales-time-series-forecasting/oil.csv\n",
      "[]\n",
      "/kaggle/input/store-sales-time-series-forecasting/sample_submission.csv\n",
      "[]\n",
      "/kaggle/input/store-sales-time-series-forecasting/holidays_events.csv\n",
      "[]\n",
      "/kaggle/input/store-sales-time-series-forecasting/stores.csv\n",
      "[]\n",
      "/kaggle/input/store-sales-time-series-forecasting/train.csv\n",
      "[]\n",
      "/kaggle/input/store-sales-time-series-forecasting/test.csv\n",
      "[]\n",
      "/kaggle/input/store-sales-time-series-forecasting/transactions.csv\n",
      "[]\n"
     ]
    }
   ],
   "source": [
    "# This Python 3 environment comes with many helpful analytics libraries installed\n",
    "# It is defined by the kaggle/python Docker image: https://github.com/kaggle/docker-python\n",
    "# For example, here's several helpful packages to load\n",
    "\n",
    "import numpy as np # linear algebra\n",
    "import pandas as pd # data processing, CSV file I/O (e.g. pd.read_csv)\n",
    "from datetime import datetime, timedelta\n",
    "\n",
    "# Input data files are available in the read-only \"../input/\" directory\n",
    "# For example, running this (by clicking run or pressing Shift+Enter) will list all files under the input directory\n",
    "\n",
    "import os\n",
    "for dirname, xxxx, filenames in os.walk('/kaggle/input'):\n",
    "    for filename in filenames:\n",
    "        print(os.path.join(dirname, filename))\n",
    "        print(xxxx)\n",
    " \n",
    "\n",
    "# You can write up to 20GB to the current directory (/kaggle/working/) that gets preserved as output when you create a version using \"Save & Run All\" \n",
    "# You can also write temporary files to /kaggle/temp/, but they won't be saved outside of the current session\n"
   ]
  },
  {
   "cell_type": "markdown",
   "id": "2a80a046",
   "metadata": {
    "papermill": {
     "duration": 0.008774,
     "end_time": "2023-10-23T18:06:46.495892",
     "exception": false,
     "start_time": "2023-10-23T18:06:46.487118",
     "status": "completed"
    },
    "tags": []
   },
   "source": [
    "# Import files"
   ]
  },
  {
   "cell_type": "markdown",
   "id": "50bdf245",
   "metadata": {
    "papermill": {
     "duration": 0.008797,
     "end_time": "2023-10-23T18:06:46.513173",
     "exception": false,
     "start_time": "2023-10-23T18:06:46.504376",
     "status": "completed"
    },
    "tags": []
   },
   "source": []
  },
  {
   "cell_type": "code",
   "execution_count": 2,
   "id": "e9807756",
   "metadata": {
    "execution": {
     "iopub.execute_input": "2023-10-23T18:06:46.533687Z",
     "iopub.status.busy": "2023-10-23T18:06:46.533125Z",
     "iopub.status.idle": "2023-10-23T18:06:50.629960Z",
     "shell.execute_reply": "2023-10-23T18:06:50.628766Z"
    },
    "papermill": {
     "duration": 4.110975,
     "end_time": "2023-10-23T18:06:50.633339",
     "exception": false,
     "start_time": "2023-10-23T18:06:46.522364",
     "status": "completed"
    },
    "tags": []
   },
   "outputs": [
    {
     "data": {
      "text/html": [
       "<div>\n",
       "<style scoped>\n",
       "    .dataframe tbody tr th:only-of-type {\n",
       "        vertical-align: middle;\n",
       "    }\n",
       "\n",
       "    .dataframe tbody tr th {\n",
       "        vertical-align: top;\n",
       "    }\n",
       "\n",
       "    .dataframe thead th {\n",
       "        text-align: right;\n",
       "    }\n",
       "</style>\n",
       "<table border=\"1\" class=\"dataframe\">\n",
       "  <thead>\n",
       "    <tr style=\"text-align: right;\">\n",
       "      <th></th>\n",
       "      <th>id</th>\n",
       "      <th>date</th>\n",
       "      <th>store_nbr</th>\n",
       "      <th>family</th>\n",
       "      <th>sales</th>\n",
       "      <th>onpromotion</th>\n",
       "    </tr>\n",
       "  </thead>\n",
       "  <tbody>\n",
       "    <tr>\n",
       "      <th>0</th>\n",
       "      <td>0</td>\n",
       "      <td>2013-01-01</td>\n",
       "      <td>1</td>\n",
       "      <td>AUTOMOTIVE</td>\n",
       "      <td>0.0</td>\n",
       "      <td>0</td>\n",
       "    </tr>\n",
       "    <tr>\n",
       "      <th>1</th>\n",
       "      <td>1</td>\n",
       "      <td>2013-01-01</td>\n",
       "      <td>1</td>\n",
       "      <td>BABY CARE</td>\n",
       "      <td>0.0</td>\n",
       "      <td>0</td>\n",
       "    </tr>\n",
       "    <tr>\n",
       "      <th>2</th>\n",
       "      <td>2</td>\n",
       "      <td>2013-01-01</td>\n",
       "      <td>1</td>\n",
       "      <td>BEAUTY</td>\n",
       "      <td>0.0</td>\n",
       "      <td>0</td>\n",
       "    </tr>\n",
       "    <tr>\n",
       "      <th>3</th>\n",
       "      <td>3</td>\n",
       "      <td>2013-01-01</td>\n",
       "      <td>1</td>\n",
       "      <td>BEVERAGES</td>\n",
       "      <td>0.0</td>\n",
       "      <td>0</td>\n",
       "    </tr>\n",
       "    <tr>\n",
       "      <th>4</th>\n",
       "      <td>4</td>\n",
       "      <td>2013-01-01</td>\n",
       "      <td>1</td>\n",
       "      <td>BOOKS</td>\n",
       "      <td>0.0</td>\n",
       "      <td>0</td>\n",
       "    </tr>\n",
       "  </tbody>\n",
       "</table>\n",
       "</div>"
      ],
      "text/plain": [
       "   id        date  store_nbr      family  sales  onpromotion\n",
       "0   0  2013-01-01          1  AUTOMOTIVE    0.0            0\n",
       "1   1  2013-01-01          1   BABY CARE    0.0            0\n",
       "2   2  2013-01-01          1      BEAUTY    0.0            0\n",
       "3   3  2013-01-01          1   BEVERAGES    0.0            0\n",
       "4   4  2013-01-01          1       BOOKS    0.0            0"
      ]
     },
     "execution_count": 2,
     "metadata": {},
     "output_type": "execute_result"
    }
   ],
   "source": [
    "# import training files\n",
    "df_train = pd.read_csv('/kaggle/input/store-sales-time-series-forecasting/train.csv')\n",
    "df_train.head()"
   ]
  },
  {
   "cell_type": "code",
   "execution_count": 3,
   "id": "f7f1fd16",
   "metadata": {
    "execution": {
     "iopub.execute_input": "2023-10-23T18:06:50.654814Z",
     "iopub.status.busy": "2023-10-23T18:06:50.654068Z",
     "iopub.status.idle": "2023-10-23T18:06:50.936739Z",
     "shell.execute_reply": "2023-10-23T18:06:50.935163Z"
    },
    "papermill": {
     "duration": 0.299599,
     "end_time": "2023-10-23T18:06:50.941901",
     "exception": false,
     "start_time": "2023-10-23T18:06:50.642302",
     "status": "completed"
    },
    "tags": []
   },
   "outputs": [
    {
     "name": "stdout",
     "output_type": "stream",
     "text": [
      "['AUTOMOTIVE' 'BABY CARE' 'BEAUTY' 'BEVERAGES' 'BOOKS' 'BREAD/BAKERY'\n",
      " 'CELEBRATION' 'CLEANING' 'DAIRY' 'DELI' 'EGGS' 'FROZEN FOODS' 'GROCERY I'\n",
      " 'GROCERY II' 'HARDWARE' 'HOME AND KITCHEN I' 'HOME AND KITCHEN II'\n",
      " 'HOME APPLIANCES' 'HOME CARE' 'LADIESWEAR' 'LAWN AND GARDEN' 'LINGERIE'\n",
      " 'LIQUOR,WINE,BEER' 'MAGAZINES' 'MEATS' 'PERSONAL CARE' 'PET SUPPLIES'\n",
      " 'PLAYERS AND ELECTRONICS' 'POULTRY' 'PREPARED FOODS' 'PRODUCE'\n",
      " 'SCHOOL AND OFFICE SUPPLIES' 'SEAFOOD']\n"
     ]
    }
   ],
   "source": [
    "family_list = df_train['family'].unique()\n",
    "print(family_list)"
   ]
  },
  {
   "cell_type": "code",
   "execution_count": 4,
   "id": "f9083a64",
   "metadata": {
    "execution": {
     "iopub.execute_input": "2023-10-23T18:06:50.962635Z",
     "iopub.status.busy": "2023-10-23T18:06:50.961979Z",
     "iopub.status.idle": "2023-10-23T18:06:50.982555Z",
     "shell.execute_reply": "2023-10-23T18:06:50.981274Z"
    },
    "papermill": {
     "duration": 0.03494,
     "end_time": "2023-10-23T18:06:50.985908",
     "exception": false,
     "start_time": "2023-10-23T18:06:50.950968",
     "status": "completed"
    },
    "tags": []
   },
   "outputs": [
    {
     "data": {
      "text/html": [
       "<div>\n",
       "<style scoped>\n",
       "    .dataframe tbody tr th:only-of-type {\n",
       "        vertical-align: middle;\n",
       "    }\n",
       "\n",
       "    .dataframe tbody tr th {\n",
       "        vertical-align: top;\n",
       "    }\n",
       "\n",
       "    .dataframe thead th {\n",
       "        text-align: right;\n",
       "    }\n",
       "</style>\n",
       "<table border=\"1\" class=\"dataframe\">\n",
       "  <thead>\n",
       "    <tr style=\"text-align: right;\">\n",
       "      <th></th>\n",
       "      <th>date</th>\n",
       "      <th>dcoilwtico</th>\n",
       "    </tr>\n",
       "  </thead>\n",
       "  <tbody>\n",
       "    <tr>\n",
       "      <th>0</th>\n",
       "      <td>2013-01-01</td>\n",
       "      <td>NaN</td>\n",
       "    </tr>\n",
       "    <tr>\n",
       "      <th>1</th>\n",
       "      <td>2013-01-02</td>\n",
       "      <td>93.14</td>\n",
       "    </tr>\n",
       "    <tr>\n",
       "      <th>2</th>\n",
       "      <td>2013-01-03</td>\n",
       "      <td>92.97</td>\n",
       "    </tr>\n",
       "    <tr>\n",
       "      <th>3</th>\n",
       "      <td>2013-01-04</td>\n",
       "      <td>93.12</td>\n",
       "    </tr>\n",
       "    <tr>\n",
       "      <th>4</th>\n",
       "      <td>2013-01-07</td>\n",
       "      <td>93.20</td>\n",
       "    </tr>\n",
       "  </tbody>\n",
       "</table>\n",
       "</div>"
      ],
      "text/plain": [
       "         date  dcoilwtico\n",
       "0  2013-01-01         NaN\n",
       "1  2013-01-02       93.14\n",
       "2  2013-01-03       92.97\n",
       "3  2013-01-04       93.12\n",
       "4  2013-01-07       93.20"
      ]
     },
     "execution_count": 4,
     "metadata": {},
     "output_type": "execute_result"
    }
   ],
   "source": [
    "# import oil data\n",
    "\n",
    "df_oil = pd.read_csv('/kaggle/input/store-sales-time-series-forecasting/oil.csv')\n",
    "df_oil.head()"
   ]
  },
  {
   "cell_type": "code",
   "execution_count": 5,
   "id": "c00b9aec",
   "metadata": {
    "execution": {
     "iopub.execute_input": "2023-10-23T18:06:51.006214Z",
     "iopub.status.busy": "2023-10-23T18:06:51.005769Z",
     "iopub.status.idle": "2023-10-23T18:06:51.076920Z",
     "shell.execute_reply": "2023-10-23T18:06:51.075091Z"
    },
    "papermill": {
     "duration": 0.084726,
     "end_time": "2023-10-23T18:06:51.080058",
     "exception": false,
     "start_time": "2023-10-23T18:06:50.995332",
     "status": "completed"
    },
    "tags": []
   },
   "outputs": [
    {
     "data": {
      "text/html": [
       "<div>\n",
       "<style scoped>\n",
       "    .dataframe tbody tr th:only-of-type {\n",
       "        vertical-align: middle;\n",
       "    }\n",
       "\n",
       "    .dataframe tbody tr th {\n",
       "        vertical-align: top;\n",
       "    }\n",
       "\n",
       "    .dataframe thead th {\n",
       "        text-align: right;\n",
       "    }\n",
       "</style>\n",
       "<table border=\"1\" class=\"dataframe\">\n",
       "  <thead>\n",
       "    <tr style=\"text-align: right;\">\n",
       "      <th></th>\n",
       "      <th>date</th>\n",
       "      <th>store_nbr</th>\n",
       "      <th>transactions</th>\n",
       "    </tr>\n",
       "  </thead>\n",
       "  <tbody>\n",
       "    <tr>\n",
       "      <th>0</th>\n",
       "      <td>2013-01-01</td>\n",
       "      <td>25</td>\n",
       "      <td>770</td>\n",
       "    </tr>\n",
       "    <tr>\n",
       "      <th>1</th>\n",
       "      <td>2013-01-02</td>\n",
       "      <td>1</td>\n",
       "      <td>2111</td>\n",
       "    </tr>\n",
       "    <tr>\n",
       "      <th>2</th>\n",
       "      <td>2013-01-02</td>\n",
       "      <td>2</td>\n",
       "      <td>2358</td>\n",
       "    </tr>\n",
       "    <tr>\n",
       "      <th>3</th>\n",
       "      <td>2013-01-02</td>\n",
       "      <td>3</td>\n",
       "      <td>3487</td>\n",
       "    </tr>\n",
       "    <tr>\n",
       "      <th>4</th>\n",
       "      <td>2013-01-02</td>\n",
       "      <td>4</td>\n",
       "      <td>1922</td>\n",
       "    </tr>\n",
       "  </tbody>\n",
       "</table>\n",
       "</div>"
      ],
      "text/plain": [
       "         date  store_nbr  transactions\n",
       "0  2013-01-01         25           770\n",
       "1  2013-01-02          1          2111\n",
       "2  2013-01-02          2          2358\n",
       "3  2013-01-02          3          3487\n",
       "4  2013-01-02          4          1922"
      ]
     },
     "execution_count": 5,
     "metadata": {},
     "output_type": "execute_result"
    }
   ],
   "source": [
    "#import transactions.csv\n",
    "df_trans = pd.read_csv('/kaggle/input/store-sales-time-series-forecasting/transactions.csv')\n",
    "df_trans.head()\n"
   ]
  },
  {
   "cell_type": "code",
   "execution_count": 6,
   "id": "7dcdf521",
   "metadata": {
    "execution": {
     "iopub.execute_input": "2023-10-23T18:06:51.103029Z",
     "iopub.status.busy": "2023-10-23T18:06:51.101861Z",
     "iopub.status.idle": "2023-10-23T18:06:51.124928Z",
     "shell.execute_reply": "2023-10-23T18:06:51.123112Z"
    },
    "papermill": {
     "duration": 0.038468,
     "end_time": "2023-10-23T18:06:51.128125",
     "exception": false,
     "start_time": "2023-10-23T18:06:51.089657",
     "status": "completed"
    },
    "tags": []
   },
   "outputs": [
    {
     "data": {
      "text/html": [
       "<div>\n",
       "<style scoped>\n",
       "    .dataframe tbody tr th:only-of-type {\n",
       "        vertical-align: middle;\n",
       "    }\n",
       "\n",
       "    .dataframe tbody tr th {\n",
       "        vertical-align: top;\n",
       "    }\n",
       "\n",
       "    .dataframe thead th {\n",
       "        text-align: right;\n",
       "    }\n",
       "</style>\n",
       "<table border=\"1\" class=\"dataframe\">\n",
       "  <thead>\n",
       "    <tr style=\"text-align: right;\">\n",
       "      <th></th>\n",
       "      <th>store_nbr</th>\n",
       "      <th>city</th>\n",
       "      <th>state</th>\n",
       "      <th>type</th>\n",
       "      <th>cluster</th>\n",
       "    </tr>\n",
       "  </thead>\n",
       "  <tbody>\n",
       "    <tr>\n",
       "      <th>0</th>\n",
       "      <td>1</td>\n",
       "      <td>Quito</td>\n",
       "      <td>Pichincha</td>\n",
       "      <td>D</td>\n",
       "      <td>13</td>\n",
       "    </tr>\n",
       "    <tr>\n",
       "      <th>1</th>\n",
       "      <td>2</td>\n",
       "      <td>Quito</td>\n",
       "      <td>Pichincha</td>\n",
       "      <td>D</td>\n",
       "      <td>13</td>\n",
       "    </tr>\n",
       "    <tr>\n",
       "      <th>2</th>\n",
       "      <td>3</td>\n",
       "      <td>Quito</td>\n",
       "      <td>Pichincha</td>\n",
       "      <td>D</td>\n",
       "      <td>8</td>\n",
       "    </tr>\n",
       "    <tr>\n",
       "      <th>3</th>\n",
       "      <td>4</td>\n",
       "      <td>Quito</td>\n",
       "      <td>Pichincha</td>\n",
       "      <td>D</td>\n",
       "      <td>9</td>\n",
       "    </tr>\n",
       "    <tr>\n",
       "      <th>4</th>\n",
       "      <td>5</td>\n",
       "      <td>Santo Domingo</td>\n",
       "      <td>Santo Domingo de los Tsachilas</td>\n",
       "      <td>D</td>\n",
       "      <td>4</td>\n",
       "    </tr>\n",
       "  </tbody>\n",
       "</table>\n",
       "</div>"
      ],
      "text/plain": [
       "   store_nbr           city                           state type  cluster\n",
       "0          1          Quito                       Pichincha    D       13\n",
       "1          2          Quito                       Pichincha    D       13\n",
       "2          3          Quito                       Pichincha    D        8\n",
       "3          4          Quito                       Pichincha    D        9\n",
       "4          5  Santo Domingo  Santo Domingo de los Tsachilas    D        4"
      ]
     },
     "execution_count": 6,
     "metadata": {},
     "output_type": "execute_result"
    }
   ],
   "source": [
    "# import stores data\n",
    "df_store = pd.read_csv('/kaggle/input/store-sales-time-series-forecasting/stores.csv')\n",
    "df_store.head()\n"
   ]
  },
  {
   "cell_type": "code",
   "execution_count": 7,
   "id": "cdeb7601",
   "metadata": {
    "execution": {
     "iopub.execute_input": "2023-10-23T18:06:51.149150Z",
     "iopub.status.busy": "2023-10-23T18:06:51.148503Z",
     "iopub.status.idle": "2023-10-23T18:06:51.161800Z",
     "shell.execute_reply": "2023-10-23T18:06:51.160222Z"
    },
    "papermill": {
     "duration": 0.02808,
     "end_time": "2023-10-23T18:06:51.165445",
     "exception": false,
     "start_time": "2023-10-23T18:06:51.137365",
     "status": "completed"
    },
    "tags": []
   },
   "outputs": [
    {
     "name": "stdout",
     "output_type": "stream",
     "text": [
      "[ 1  2  3  4  5  6  7  8  9 10 11 12 13 14 15 16 17 18 19 20 21 22 23 24\n",
      " 25 26 27 28 29 30 31 32 33 34 35 36 37 38 39 40 41 42 43 44 45 46 47 48\n",
      " 49 50 51 52 53 54]\n"
     ]
    }
   ],
   "source": [
    "store_number = df_store['store_nbr'].unique()\n",
    "print(store_number)"
   ]
  },
  {
   "cell_type": "code",
   "execution_count": 8,
   "id": "dc981ffb",
   "metadata": {
    "execution": {
     "iopub.execute_input": "2023-10-23T18:06:51.186554Z",
     "iopub.status.busy": "2023-10-23T18:06:51.186162Z",
     "iopub.status.idle": "2023-10-23T18:06:51.206960Z",
     "shell.execute_reply": "2023-10-23T18:06:51.205771Z"
    },
    "papermill": {
     "duration": 0.034242,
     "end_time": "2023-10-23T18:06:51.209497",
     "exception": false,
     "start_time": "2023-10-23T18:06:51.175255",
     "status": "completed"
    },
    "tags": []
   },
   "outputs": [
    {
     "data": {
      "text/html": [
       "<div>\n",
       "<style scoped>\n",
       "    .dataframe tbody tr th:only-of-type {\n",
       "        vertical-align: middle;\n",
       "    }\n",
       "\n",
       "    .dataframe tbody tr th {\n",
       "        vertical-align: top;\n",
       "    }\n",
       "\n",
       "    .dataframe thead th {\n",
       "        text-align: right;\n",
       "    }\n",
       "</style>\n",
       "<table border=\"1\" class=\"dataframe\">\n",
       "  <thead>\n",
       "    <tr style=\"text-align: right;\">\n",
       "      <th></th>\n",
       "      <th>date</th>\n",
       "      <th>type</th>\n",
       "      <th>locale</th>\n",
       "      <th>locale_name</th>\n",
       "      <th>description</th>\n",
       "      <th>transferred</th>\n",
       "    </tr>\n",
       "  </thead>\n",
       "  <tbody>\n",
       "    <tr>\n",
       "      <th>0</th>\n",
       "      <td>2012-03-02</td>\n",
       "      <td>Holiday</td>\n",
       "      <td>Local</td>\n",
       "      <td>Manta</td>\n",
       "      <td>Fundacion de Manta</td>\n",
       "      <td>False</td>\n",
       "    </tr>\n",
       "    <tr>\n",
       "      <th>1</th>\n",
       "      <td>2012-04-01</td>\n",
       "      <td>Holiday</td>\n",
       "      <td>Regional</td>\n",
       "      <td>Cotopaxi</td>\n",
       "      <td>Provincializacion de Cotopaxi</td>\n",
       "      <td>False</td>\n",
       "    </tr>\n",
       "    <tr>\n",
       "      <th>2</th>\n",
       "      <td>2012-04-12</td>\n",
       "      <td>Holiday</td>\n",
       "      <td>Local</td>\n",
       "      <td>Cuenca</td>\n",
       "      <td>Fundacion de Cuenca</td>\n",
       "      <td>False</td>\n",
       "    </tr>\n",
       "    <tr>\n",
       "      <th>3</th>\n",
       "      <td>2012-04-14</td>\n",
       "      <td>Holiday</td>\n",
       "      <td>Local</td>\n",
       "      <td>Libertad</td>\n",
       "      <td>Cantonizacion de Libertad</td>\n",
       "      <td>False</td>\n",
       "    </tr>\n",
       "    <tr>\n",
       "      <th>4</th>\n",
       "      <td>2012-04-21</td>\n",
       "      <td>Holiday</td>\n",
       "      <td>Local</td>\n",
       "      <td>Riobamba</td>\n",
       "      <td>Cantonizacion de Riobamba</td>\n",
       "      <td>False</td>\n",
       "    </tr>\n",
       "  </tbody>\n",
       "</table>\n",
       "</div>"
      ],
      "text/plain": [
       "         date     type    locale locale_name                    description  \\\n",
       "0  2012-03-02  Holiday     Local       Manta             Fundacion de Manta   \n",
       "1  2012-04-01  Holiday  Regional    Cotopaxi  Provincializacion de Cotopaxi   \n",
       "2  2012-04-12  Holiday     Local      Cuenca            Fundacion de Cuenca   \n",
       "3  2012-04-14  Holiday     Local    Libertad      Cantonizacion de Libertad   \n",
       "4  2012-04-21  Holiday     Local    Riobamba      Cantonizacion de Riobamba   \n",
       "\n",
       "   transferred  \n",
       "0        False  \n",
       "1        False  \n",
       "2        False  \n",
       "3        False  \n",
       "4        False  "
      ]
     },
     "execution_count": 8,
     "metadata": {},
     "output_type": "execute_result"
    }
   ],
   "source": [
    "# import holiday events data\n",
    "df_holidays = pd.read_csv('/kaggle/input/store-sales-time-series-forecasting/holidays_events.csv')\n",
    "df_holidays.head()"
   ]
  },
  {
   "cell_type": "code",
   "execution_count": 9,
   "id": "6dfa0d37",
   "metadata": {
    "execution": {
     "iopub.execute_input": "2023-10-23T18:06:51.231398Z",
     "iopub.status.busy": "2023-10-23T18:06:51.230676Z",
     "iopub.status.idle": "2023-10-23T18:06:51.281928Z",
     "shell.execute_reply": "2023-10-23T18:06:51.279957Z"
    },
    "papermill": {
     "duration": 0.065979,
     "end_time": "2023-10-23T18:06:51.285518",
     "exception": false,
     "start_time": "2023-10-23T18:06:51.219539",
     "status": "completed"
    },
    "tags": []
   },
   "outputs": [
    {
     "data": {
      "text/html": [
       "<div>\n",
       "<style scoped>\n",
       "    .dataframe tbody tr th:only-of-type {\n",
       "        vertical-align: middle;\n",
       "    }\n",
       "\n",
       "    .dataframe tbody tr th {\n",
       "        vertical-align: top;\n",
       "    }\n",
       "\n",
       "    .dataframe thead th {\n",
       "        text-align: right;\n",
       "    }\n",
       "</style>\n",
       "<table border=\"1\" class=\"dataframe\">\n",
       "  <thead>\n",
       "    <tr style=\"text-align: right;\">\n",
       "      <th></th>\n",
       "      <th>id</th>\n",
       "      <th>date</th>\n",
       "      <th>store_nbr</th>\n",
       "      <th>family</th>\n",
       "      <th>onpromotion</th>\n",
       "    </tr>\n",
       "  </thead>\n",
       "  <tbody>\n",
       "    <tr>\n",
       "      <th>0</th>\n",
       "      <td>3000888</td>\n",
       "      <td>2017-08-16</td>\n",
       "      <td>1</td>\n",
       "      <td>AUTOMOTIVE</td>\n",
       "      <td>0</td>\n",
       "    </tr>\n",
       "    <tr>\n",
       "      <th>1</th>\n",
       "      <td>3000889</td>\n",
       "      <td>2017-08-16</td>\n",
       "      <td>1</td>\n",
       "      <td>BABY CARE</td>\n",
       "      <td>0</td>\n",
       "    </tr>\n",
       "    <tr>\n",
       "      <th>2</th>\n",
       "      <td>3000890</td>\n",
       "      <td>2017-08-16</td>\n",
       "      <td>1</td>\n",
       "      <td>BEAUTY</td>\n",
       "      <td>2</td>\n",
       "    </tr>\n",
       "    <tr>\n",
       "      <th>3</th>\n",
       "      <td>3000891</td>\n",
       "      <td>2017-08-16</td>\n",
       "      <td>1</td>\n",
       "      <td>BEVERAGES</td>\n",
       "      <td>20</td>\n",
       "    </tr>\n",
       "    <tr>\n",
       "      <th>4</th>\n",
       "      <td>3000892</td>\n",
       "      <td>2017-08-16</td>\n",
       "      <td>1</td>\n",
       "      <td>BOOKS</td>\n",
       "      <td>0</td>\n",
       "    </tr>\n",
       "  </tbody>\n",
       "</table>\n",
       "</div>"
      ],
      "text/plain": [
       "        id        date  store_nbr      family  onpromotion\n",
       "0  3000888  2017-08-16          1  AUTOMOTIVE            0\n",
       "1  3000889  2017-08-16          1   BABY CARE            0\n",
       "2  3000890  2017-08-16          1      BEAUTY            2\n",
       "3  3000891  2017-08-16          1   BEVERAGES           20\n",
       "4  3000892  2017-08-16          1       BOOKS            0"
      ]
     },
     "execution_count": 9,
     "metadata": {},
     "output_type": "execute_result"
    }
   ],
   "source": [
    "# import test data\n",
    "df_test = pd.read_csv('/kaggle/input/store-sales-time-series-forecasting/test.csv')\n",
    "df_test.head()"
   ]
  },
  {
   "cell_type": "code",
   "execution_count": 10,
   "id": "bc14b12a",
   "metadata": {
    "execution": {
     "iopub.execute_input": "2023-10-23T18:06:51.308744Z",
     "iopub.status.busy": "2023-10-23T18:06:51.307494Z",
     "iopub.status.idle": "2023-10-23T18:06:52.243387Z",
     "shell.execute_reply": "2023-10-23T18:06:52.242093Z"
    },
    "papermill": {
     "duration": 0.95129,
     "end_time": "2023-10-23T18:06:52.246584",
     "exception": false,
     "start_time": "2023-10-23T18:06:51.295294",
     "status": "completed"
    },
    "tags": []
   },
   "outputs": [],
   "source": [
    "train_merged = pd.merge(df_train, df_store, on='store_nbr')"
   ]
  },
  {
   "cell_type": "code",
   "execution_count": 11,
   "id": "5b7252ae",
   "metadata": {
    "execution": {
     "iopub.execute_input": "2023-10-23T18:06:52.270118Z",
     "iopub.status.busy": "2023-10-23T18:06:52.269665Z",
     "iopub.status.idle": "2023-10-23T18:06:52.293800Z",
     "shell.execute_reply": "2023-10-23T18:06:52.292458Z"
    },
    "papermill": {
     "duration": 0.039285,
     "end_time": "2023-10-23T18:06:52.296915",
     "exception": false,
     "start_time": "2023-10-23T18:06:52.257630",
     "status": "completed"
    },
    "tags": []
   },
   "outputs": [
    {
     "data": {
      "text/html": [
       "<div>\n",
       "<style scoped>\n",
       "    .dataframe tbody tr th:only-of-type {\n",
       "        vertical-align: middle;\n",
       "    }\n",
       "\n",
       "    .dataframe tbody tr th {\n",
       "        vertical-align: top;\n",
       "    }\n",
       "\n",
       "    .dataframe thead th {\n",
       "        text-align: right;\n",
       "    }\n",
       "</style>\n",
       "<table border=\"1\" class=\"dataframe\">\n",
       "  <thead>\n",
       "    <tr style=\"text-align: right;\">\n",
       "      <th></th>\n",
       "      <th>id</th>\n",
       "      <th>date</th>\n",
       "      <th>store_nbr</th>\n",
       "      <th>family</th>\n",
       "      <th>sales</th>\n",
       "      <th>onpromotion</th>\n",
       "      <th>city</th>\n",
       "      <th>state</th>\n",
       "      <th>type</th>\n",
       "      <th>cluster</th>\n",
       "    </tr>\n",
       "  </thead>\n",
       "  <tbody>\n",
       "    <tr>\n",
       "      <th>0</th>\n",
       "      <td>0</td>\n",
       "      <td>2013-01-01</td>\n",
       "      <td>1</td>\n",
       "      <td>AUTOMOTIVE</td>\n",
       "      <td>0.0</td>\n",
       "      <td>0</td>\n",
       "      <td>Quito</td>\n",
       "      <td>Pichincha</td>\n",
       "      <td>D</td>\n",
       "      <td>13</td>\n",
       "    </tr>\n",
       "    <tr>\n",
       "      <th>1</th>\n",
       "      <td>1</td>\n",
       "      <td>2013-01-01</td>\n",
       "      <td>1</td>\n",
       "      <td>BABY CARE</td>\n",
       "      <td>0.0</td>\n",
       "      <td>0</td>\n",
       "      <td>Quito</td>\n",
       "      <td>Pichincha</td>\n",
       "      <td>D</td>\n",
       "      <td>13</td>\n",
       "    </tr>\n",
       "    <tr>\n",
       "      <th>2</th>\n",
       "      <td>2</td>\n",
       "      <td>2013-01-01</td>\n",
       "      <td>1</td>\n",
       "      <td>BEAUTY</td>\n",
       "      <td>0.0</td>\n",
       "      <td>0</td>\n",
       "      <td>Quito</td>\n",
       "      <td>Pichincha</td>\n",
       "      <td>D</td>\n",
       "      <td>13</td>\n",
       "    </tr>\n",
       "    <tr>\n",
       "      <th>3</th>\n",
       "      <td>3</td>\n",
       "      <td>2013-01-01</td>\n",
       "      <td>1</td>\n",
       "      <td>BEVERAGES</td>\n",
       "      <td>0.0</td>\n",
       "      <td>0</td>\n",
       "      <td>Quito</td>\n",
       "      <td>Pichincha</td>\n",
       "      <td>D</td>\n",
       "      <td>13</td>\n",
       "    </tr>\n",
       "    <tr>\n",
       "      <th>4</th>\n",
       "      <td>4</td>\n",
       "      <td>2013-01-01</td>\n",
       "      <td>1</td>\n",
       "      <td>BOOKS</td>\n",
       "      <td>0.0</td>\n",
       "      <td>0</td>\n",
       "      <td>Quito</td>\n",
       "      <td>Pichincha</td>\n",
       "      <td>D</td>\n",
       "      <td>13</td>\n",
       "    </tr>\n",
       "    <tr>\n",
       "      <th>5</th>\n",
       "      <td>5</td>\n",
       "      <td>2013-01-01</td>\n",
       "      <td>1</td>\n",
       "      <td>BREAD/BAKERY</td>\n",
       "      <td>0.0</td>\n",
       "      <td>0</td>\n",
       "      <td>Quito</td>\n",
       "      <td>Pichincha</td>\n",
       "      <td>D</td>\n",
       "      <td>13</td>\n",
       "    </tr>\n",
       "    <tr>\n",
       "      <th>6</th>\n",
       "      <td>6</td>\n",
       "      <td>2013-01-01</td>\n",
       "      <td>1</td>\n",
       "      <td>CELEBRATION</td>\n",
       "      <td>0.0</td>\n",
       "      <td>0</td>\n",
       "      <td>Quito</td>\n",
       "      <td>Pichincha</td>\n",
       "      <td>D</td>\n",
       "      <td>13</td>\n",
       "    </tr>\n",
       "    <tr>\n",
       "      <th>7</th>\n",
       "      <td>7</td>\n",
       "      <td>2013-01-01</td>\n",
       "      <td>1</td>\n",
       "      <td>CLEANING</td>\n",
       "      <td>0.0</td>\n",
       "      <td>0</td>\n",
       "      <td>Quito</td>\n",
       "      <td>Pichincha</td>\n",
       "      <td>D</td>\n",
       "      <td>13</td>\n",
       "    </tr>\n",
       "    <tr>\n",
       "      <th>8</th>\n",
       "      <td>8</td>\n",
       "      <td>2013-01-01</td>\n",
       "      <td>1</td>\n",
       "      <td>DAIRY</td>\n",
       "      <td>0.0</td>\n",
       "      <td>0</td>\n",
       "      <td>Quito</td>\n",
       "      <td>Pichincha</td>\n",
       "      <td>D</td>\n",
       "      <td>13</td>\n",
       "    </tr>\n",
       "    <tr>\n",
       "      <th>9</th>\n",
       "      <td>9</td>\n",
       "      <td>2013-01-01</td>\n",
       "      <td>1</td>\n",
       "      <td>DELI</td>\n",
       "      <td>0.0</td>\n",
       "      <td>0</td>\n",
       "      <td>Quito</td>\n",
       "      <td>Pichincha</td>\n",
       "      <td>D</td>\n",
       "      <td>13</td>\n",
       "    </tr>\n",
       "  </tbody>\n",
       "</table>\n",
       "</div>"
      ],
      "text/plain": [
       "   id        date  store_nbr        family  sales  onpromotion   city  \\\n",
       "0   0  2013-01-01          1    AUTOMOTIVE    0.0            0  Quito   \n",
       "1   1  2013-01-01          1     BABY CARE    0.0            0  Quito   \n",
       "2   2  2013-01-01          1        BEAUTY    0.0            0  Quito   \n",
       "3   3  2013-01-01          1     BEVERAGES    0.0            0  Quito   \n",
       "4   4  2013-01-01          1         BOOKS    0.0            0  Quito   \n",
       "5   5  2013-01-01          1  BREAD/BAKERY    0.0            0  Quito   \n",
       "6   6  2013-01-01          1   CELEBRATION    0.0            0  Quito   \n",
       "7   7  2013-01-01          1      CLEANING    0.0            0  Quito   \n",
       "8   8  2013-01-01          1         DAIRY    0.0            0  Quito   \n",
       "9   9  2013-01-01          1          DELI    0.0            0  Quito   \n",
       "\n",
       "       state type  cluster  \n",
       "0  Pichincha    D       13  \n",
       "1  Pichincha    D       13  \n",
       "2  Pichincha    D       13  \n",
       "3  Pichincha    D       13  \n",
       "4  Pichincha    D       13  \n",
       "5  Pichincha    D       13  \n",
       "6  Pichincha    D       13  \n",
       "7  Pichincha    D       13  \n",
       "8  Pichincha    D       13  \n",
       "9  Pichincha    D       13  "
      ]
     },
     "execution_count": 11,
     "metadata": {},
     "output_type": "execute_result"
    }
   ],
   "source": [
    "train_merged.head(10)"
   ]
  },
  {
   "cell_type": "code",
   "execution_count": null,
   "id": "c7ca9827",
   "metadata": {
    "papermill": {
     "duration": 0.010471,
     "end_time": "2023-10-23T18:06:52.317864",
     "exception": false,
     "start_time": "2023-10-23T18:06:52.307393",
     "status": "completed"
    },
    "tags": []
   },
   "outputs": [],
   "source": []
  },
  {
   "cell_type": "code",
   "execution_count": 12,
   "id": "eabd9be2",
   "metadata": {
    "execution": {
     "iopub.execute_input": "2023-10-23T18:06:52.344270Z",
     "iopub.status.busy": "2023-10-23T18:06:52.343819Z",
     "iopub.status.idle": "2023-10-23T18:06:54.471553Z",
     "shell.execute_reply": "2023-10-23T18:06:54.469270Z"
    },
    "papermill": {
     "duration": 2.142949,
     "end_time": "2023-10-23T18:06:54.475181",
     "exception": false,
     "start_time": "2023-10-23T18:06:52.332232",
     "status": "completed"
    },
    "tags": []
   },
   "outputs": [
    {
     "data": {
      "text/html": [
       "<div>\n",
       "<style scoped>\n",
       "    .dataframe tbody tr th:only-of-type {\n",
       "        vertical-align: middle;\n",
       "    }\n",
       "\n",
       "    .dataframe tbody tr th {\n",
       "        vertical-align: top;\n",
       "    }\n",
       "\n",
       "    .dataframe thead th {\n",
       "        text-align: right;\n",
       "    }\n",
       "</style>\n",
       "<table border=\"1\" class=\"dataframe\">\n",
       "  <thead>\n",
       "    <tr style=\"text-align: right;\">\n",
       "      <th></th>\n",
       "      <th>id</th>\n",
       "      <th>date</th>\n",
       "      <th>store_nbr</th>\n",
       "      <th>family</th>\n",
       "      <th>sales</th>\n",
       "      <th>onpromotion</th>\n",
       "      <th>city</th>\n",
       "      <th>state</th>\n",
       "      <th>type</th>\n",
       "      <th>cluster</th>\n",
       "    </tr>\n",
       "  </thead>\n",
       "  <tbody>\n",
       "    <tr>\n",
       "      <th>0</th>\n",
       "      <td>0</td>\n",
       "      <td>2013-01-01</td>\n",
       "      <td>1</td>\n",
       "      <td>AUTOMOTIVE</td>\n",
       "      <td>0.0</td>\n",
       "      <td>0</td>\n",
       "      <td>Quito</td>\n",
       "      <td>Pichincha</td>\n",
       "      <td>D</td>\n",
       "      <td>13</td>\n",
       "    </tr>\n",
       "    <tr>\n",
       "      <th>33</th>\n",
       "      <td>1782</td>\n",
       "      <td>2013-01-02</td>\n",
       "      <td>1</td>\n",
       "      <td>AUTOMOTIVE</td>\n",
       "      <td>2.0</td>\n",
       "      <td>0</td>\n",
       "      <td>Quito</td>\n",
       "      <td>Pichincha</td>\n",
       "      <td>D</td>\n",
       "      <td>13</td>\n",
       "    </tr>\n",
       "    <tr>\n",
       "      <th>66</th>\n",
       "      <td>3564</td>\n",
       "      <td>2013-01-03</td>\n",
       "      <td>1</td>\n",
       "      <td>AUTOMOTIVE</td>\n",
       "      <td>3.0</td>\n",
       "      <td>0</td>\n",
       "      <td>Quito</td>\n",
       "      <td>Pichincha</td>\n",
       "      <td>D</td>\n",
       "      <td>13</td>\n",
       "    </tr>\n",
       "    <tr>\n",
       "      <th>99</th>\n",
       "      <td>5346</td>\n",
       "      <td>2013-01-04</td>\n",
       "      <td>1</td>\n",
       "      <td>AUTOMOTIVE</td>\n",
       "      <td>3.0</td>\n",
       "      <td>0</td>\n",
       "      <td>Quito</td>\n",
       "      <td>Pichincha</td>\n",
       "      <td>D</td>\n",
       "      <td>13</td>\n",
       "    </tr>\n",
       "    <tr>\n",
       "      <th>132</th>\n",
       "      <td>7128</td>\n",
       "      <td>2013-01-05</td>\n",
       "      <td>1</td>\n",
       "      <td>AUTOMOTIVE</td>\n",
       "      <td>5.0</td>\n",
       "      <td>0</td>\n",
       "      <td>Quito</td>\n",
       "      <td>Pichincha</td>\n",
       "      <td>D</td>\n",
       "      <td>13</td>\n",
       "    </tr>\n",
       "    <tr>\n",
       "      <th>165</th>\n",
       "      <td>8910</td>\n",
       "      <td>2013-01-06</td>\n",
       "      <td>1</td>\n",
       "      <td>AUTOMOTIVE</td>\n",
       "      <td>2.0</td>\n",
       "      <td>0</td>\n",
       "      <td>Quito</td>\n",
       "      <td>Pichincha</td>\n",
       "      <td>D</td>\n",
       "      <td>13</td>\n",
       "    </tr>\n",
       "    <tr>\n",
       "      <th>198</th>\n",
       "      <td>10692</td>\n",
       "      <td>2013-01-07</td>\n",
       "      <td>1</td>\n",
       "      <td>AUTOMOTIVE</td>\n",
       "      <td>0.0</td>\n",
       "      <td>0</td>\n",
       "      <td>Quito</td>\n",
       "      <td>Pichincha</td>\n",
       "      <td>D</td>\n",
       "      <td>13</td>\n",
       "    </tr>\n",
       "    <tr>\n",
       "      <th>231</th>\n",
       "      <td>12474</td>\n",
       "      <td>2013-01-08</td>\n",
       "      <td>1</td>\n",
       "      <td>AUTOMOTIVE</td>\n",
       "      <td>2.0</td>\n",
       "      <td>0</td>\n",
       "      <td>Quito</td>\n",
       "      <td>Pichincha</td>\n",
       "      <td>D</td>\n",
       "      <td>13</td>\n",
       "    </tr>\n",
       "    <tr>\n",
       "      <th>264</th>\n",
       "      <td>14256</td>\n",
       "      <td>2013-01-09</td>\n",
       "      <td>1</td>\n",
       "      <td>AUTOMOTIVE</td>\n",
       "      <td>2.0</td>\n",
       "      <td>0</td>\n",
       "      <td>Quito</td>\n",
       "      <td>Pichincha</td>\n",
       "      <td>D</td>\n",
       "      <td>13</td>\n",
       "    </tr>\n",
       "    <tr>\n",
       "      <th>297</th>\n",
       "      <td>16038</td>\n",
       "      <td>2013-01-10</td>\n",
       "      <td>1</td>\n",
       "      <td>AUTOMOTIVE</td>\n",
       "      <td>2.0</td>\n",
       "      <td>0</td>\n",
       "      <td>Quito</td>\n",
       "      <td>Pichincha</td>\n",
       "      <td>D</td>\n",
       "      <td>13</td>\n",
       "    </tr>\n",
       "  </tbody>\n",
       "</table>\n",
       "</div>"
      ],
      "text/plain": [
       "        id        date  store_nbr      family  sales  onpromotion   city  \\\n",
       "0        0  2013-01-01          1  AUTOMOTIVE    0.0            0  Quito   \n",
       "33    1782  2013-01-02          1  AUTOMOTIVE    2.0            0  Quito   \n",
       "66    3564  2013-01-03          1  AUTOMOTIVE    3.0            0  Quito   \n",
       "99    5346  2013-01-04          1  AUTOMOTIVE    3.0            0  Quito   \n",
       "132   7128  2013-01-05          1  AUTOMOTIVE    5.0            0  Quito   \n",
       "165   8910  2013-01-06          1  AUTOMOTIVE    2.0            0  Quito   \n",
       "198  10692  2013-01-07          1  AUTOMOTIVE    0.0            0  Quito   \n",
       "231  12474  2013-01-08          1  AUTOMOTIVE    2.0            0  Quito   \n",
       "264  14256  2013-01-09          1  AUTOMOTIVE    2.0            0  Quito   \n",
       "297  16038  2013-01-10          1  AUTOMOTIVE    2.0            0  Quito   \n",
       "\n",
       "         state type  cluster  \n",
       "0    Pichincha    D       13  \n",
       "33   Pichincha    D       13  \n",
       "66   Pichincha    D       13  \n",
       "99   Pichincha    D       13  \n",
       "132  Pichincha    D       13  \n",
       "165  Pichincha    D       13  \n",
       "198  Pichincha    D       13  \n",
       "231  Pichincha    D       13  \n",
       "264  Pichincha    D       13  \n",
       "297  Pichincha    D       13  "
      ]
     },
     "execution_count": 12,
     "metadata": {},
     "output_type": "execute_result"
    }
   ],
   "source": [
    "train_merged = train_merged.sort_values(['store_nbr', 'family','date'])\n",
    "train_merged.head(10)"
   ]
  },
  {
   "cell_type": "code",
   "execution_count": 13,
   "id": "f9f65d2d",
   "metadata": {
    "execution": {
     "iopub.execute_input": "2023-10-23T18:06:54.501618Z",
     "iopub.status.busy": "2023-10-23T18:06:54.501220Z",
     "iopub.status.idle": "2023-10-23T18:06:54.510970Z",
     "shell.execute_reply": "2023-10-23T18:06:54.509121Z"
    },
    "papermill": {
     "duration": 0.028746,
     "end_time": "2023-10-23T18:06:54.515218",
     "exception": false,
     "start_time": "2023-10-23T18:06:54.486472",
     "status": "completed"
    },
    "tags": []
   },
   "outputs": [
    {
     "data": {
      "text/plain": [
       "id               int64\n",
       "date            object\n",
       "store_nbr        int64\n",
       "family          object\n",
       "sales          float64\n",
       "onpromotion      int64\n",
       "city            object\n",
       "state           object\n",
       "type            object\n",
       "cluster          int64\n",
       "dtype: object"
      ]
     },
     "execution_count": 13,
     "metadata": {},
     "output_type": "execute_result"
    }
   ],
   "source": [
    "train_merged.dtypes"
   ]
  },
  {
   "cell_type": "code",
   "execution_count": 14,
   "id": "4dda8749",
   "metadata": {
    "execution": {
     "iopub.execute_input": "2023-10-23T18:06:54.541229Z",
     "iopub.status.busy": "2023-10-23T18:06:54.539811Z",
     "iopub.status.idle": "2023-10-23T18:06:59.787771Z",
     "shell.execute_reply": "2023-10-23T18:06:59.785801Z"
    },
    "papermill": {
     "duration": 5.27446,
     "end_time": "2023-10-23T18:06:59.801022",
     "exception": false,
     "start_time": "2023-10-23T18:06:54.526562",
     "status": "completed"
    },
    "tags": []
   },
   "outputs": [],
   "source": [
    "train_merged = train_merged.astype({\"store_nbr\":'str', 'family':'str',\n",
    "                                    'city': 'str', 'state': 'str',\n",
    "                                    'type': 'str', 'cluster': 'str'})\n",
    "                                    "
   ]
  },
  {
   "cell_type": "code",
   "execution_count": 15,
   "id": "c928be4a",
   "metadata": {
    "execution": {
     "iopub.execute_input": "2023-10-23T18:06:59.836668Z",
     "iopub.status.busy": "2023-10-23T18:06:59.835910Z",
     "iopub.status.idle": "2023-10-23T18:07:00.721556Z",
     "shell.execute_reply": "2023-10-23T18:07:00.719831Z"
    },
    "papermill": {
     "duration": 0.908034,
     "end_time": "2023-10-23T18:07:00.726123",
     "exception": false,
     "start_time": "2023-10-23T18:06:59.818089",
     "status": "completed"
    },
    "tags": []
   },
   "outputs": [],
   "source": [
    "train_merged = train_merged.astype({\"store_nbr\":'str', \"family\":'str', \"city\":'str',\n",
    "                          \"state\":'str', \"type\":'str', \"cluster\":'str'})"
   ]
  },
  {
   "cell_type": "code",
   "execution_count": 16,
   "id": "ad4d461d",
   "metadata": {
    "execution": {
     "iopub.execute_input": "2023-10-23T18:07:00.753569Z",
     "iopub.status.busy": "2023-10-23T18:07:00.753096Z",
     "iopub.status.idle": "2023-10-23T18:07:00.762315Z",
     "shell.execute_reply": "2023-10-23T18:07:00.761137Z"
    },
    "papermill": {
     "duration": 0.027863,
     "end_time": "2023-10-23T18:07:00.765725",
     "exception": false,
     "start_time": "2023-10-23T18:07:00.737862",
     "status": "completed"
    },
    "tags": []
   },
   "outputs": [
    {
     "data": {
      "text/plain": [
       "id               int64\n",
       "date            object\n",
       "store_nbr       object\n",
       "family          object\n",
       "sales          float64\n",
       "onpromotion      int64\n",
       "city            object\n",
       "state           object\n",
       "type            object\n",
       "cluster         object\n",
       "dtype: object"
      ]
     },
     "execution_count": 16,
     "metadata": {},
     "output_type": "execute_result"
    }
   ],
   "source": [
    "train_merged.dtypes"
   ]
  },
  {
   "cell_type": "code",
   "execution_count": 17,
   "id": "4d7888d5",
   "metadata": {
    "execution": {
     "iopub.execute_input": "2023-10-23T18:07:00.789940Z",
     "iopub.status.busy": "2023-10-23T18:07:00.789488Z",
     "iopub.status.idle": "2023-10-23T18:07:33.827645Z",
     "shell.execute_reply": "2023-10-23T18:07:33.825462Z"
    },
    "papermill": {
     "duration": 33.05429,
     "end_time": "2023-10-23T18:07:33.831232",
     "exception": false,
     "start_time": "2023-10-23T18:07:00.776942",
     "status": "completed"
    },
    "tags": []
   },
   "outputs": [
    {
     "name": "stdout",
     "output_type": "stream",
     "text": [
      "Collecting darts\r\n",
      "  Downloading darts-0.26.0-py3-none-any.whl (784 kB)\r\n",
      "\u001b[2K     \u001b[90m━━━━━━━━━━━━━━━━━━━━━━━━━━━━━━━━━━━━━━\u001b[0m \u001b[32m784.8/784.8 kB\u001b[0m \u001b[31m11.2 MB/s\u001b[0m eta \u001b[36m0:00:00\u001b[0m\r\n",
      "\u001b[?25hRequirement already satisfied: holidays>=0.11.1 in /opt/conda/lib/python3.10/site-packages (from darts) (0.24)\r\n",
      "Requirement already satisfied: joblib>=0.16.0 in /opt/conda/lib/python3.10/site-packages (from darts) (1.3.2)\r\n",
      "Requirement already satisfied: matplotlib>=3.3.0 in /opt/conda/lib/python3.10/site-packages (from darts) (3.7.2)\r\n",
      "Collecting nfoursid>=1.0.0 (from darts)\r\n",
      "  Downloading nfoursid-1.0.1-py3-none-any.whl (16 kB)\r\n",
      "Requirement already satisfied: numpy>=1.19.0 in /opt/conda/lib/python3.10/site-packages (from darts) (1.23.5)\r\n",
      "Collecting pmdarima>=1.8.0 (from darts)\r\n",
      "  Downloading pmdarima-2.0.4-cp310-cp310-manylinux_2_17_x86_64.manylinux2014_x86_64.manylinux_2_28_x86_64.whl (2.1 MB)\r\n",
      "\u001b[2K     \u001b[90m━━━━━━━━━━━━━━━━━━━━━━━━━━━━━━━━━━━━━━━━\u001b[0m \u001b[32m2.1/2.1 MB\u001b[0m \u001b[31m41.0 MB/s\u001b[0m eta \u001b[36m0:00:00\u001b[0m\r\n",
      "\u001b[?25hCollecting pyod>=0.9.5 (from darts)\r\n",
      "  Downloading pyod-1.1.0.tar.gz (153 kB)\r\n",
      "\u001b[2K     \u001b[90m━━━━━━━━━━━━━━━━━━━━━━━━━━━━━━━━━━━━━━\u001b[0m \u001b[32m153.4/153.4 kB\u001b[0m \u001b[31m11.1 MB/s\u001b[0m eta \u001b[36m0:00:00\u001b[0m\r\n",
      "\u001b[?25h  Preparing metadata (setup.py) ... \u001b[?25l-\b \b\\\b \b|\b \bdone\r\n",
      "\u001b[?25hRequirement already satisfied: requests>=2.22.0 in /opt/conda/lib/python3.10/site-packages (from darts) (2.31.0)\r\n",
      "Requirement already satisfied: scikit-learn>=1.0.1 in /opt/conda/lib/python3.10/site-packages (from darts) (1.2.2)\r\n",
      "Requirement already satisfied: scipy>=1.3.2 in /opt/conda/lib/python3.10/site-packages (from darts) (1.11.2)\r\n",
      "Requirement already satisfied: shap>=0.40.0 in /opt/conda/lib/python3.10/site-packages (from darts) (0.42.1)\r\n",
      "Collecting statsforecast>=1.4 (from darts)\r\n",
      "  Downloading statsforecast-1.6.0-py3-none-any.whl (110 kB)\r\n",
      "\u001b[2K     \u001b[90m━━━━━━━━━━━━━━━━━━━━━━━━━━━━━━━━━━━━━━━\u001b[0m \u001b[32m110.9/110.9 kB\u001b[0m \u001b[31m8.3 MB/s\u001b[0m eta \u001b[36m0:00:00\u001b[0m\r\n",
      "\u001b[?25hRequirement already satisfied: statsmodels>=0.14.0 in /opt/conda/lib/python3.10/site-packages (from darts) (0.14.0)\r\n",
      "Collecting tbats>=1.1.0 (from darts)\r\n",
      "  Downloading tbats-1.1.3-py3-none-any.whl (44 kB)\r\n",
      "\u001b[2K     \u001b[90m━━━━━━━━━━━━━━━━━━━━━━━━━━━━━━━━━━━━━━━━\u001b[0m \u001b[32m44.0/44.0 kB\u001b[0m \u001b[31m2.9 MB/s\u001b[0m eta \u001b[36m0:00:00\u001b[0m\r\n",
      "\u001b[?25hRequirement already satisfied: tqdm>=4.60.0 in /opt/conda/lib/python3.10/site-packages (from darts) (4.66.1)\r\n",
      "Requirement already satisfied: typing-extensions in /opt/conda/lib/python3.10/site-packages (from darts) (4.6.3)\r\n",
      "Requirement already satisfied: xarray>=0.17.0 in /opt/conda/lib/python3.10/site-packages (from darts) (2023.8.0)\r\n",
      "Requirement already satisfied: xgboost>=1.6.0 in /opt/conda/lib/python3.10/site-packages (from darts) (1.7.6)\r\n",
      "Requirement already satisfied: pytorch-lightning>=1.5.0 in /opt/conda/lib/python3.10/site-packages (from darts) (2.0.8)\r\n",
      "Requirement already satisfied: tensorboardX>=2.1 in /opt/conda/lib/python3.10/site-packages (from darts) (2.6)\r\n",
      "Requirement already satisfied: torch>=1.8.0 in /opt/conda/lib/python3.10/site-packages (from darts) (2.0.0+cpu)\r\n",
      "Requirement already satisfied: pandas>=1.0.5 in /opt/conda/lib/python3.10/site-packages (from darts) (2.0.3)\r\n",
      "Requirement already satisfied: hijri-converter in /opt/conda/lib/python3.10/site-packages (from holidays>=0.11.1->darts) (2.3.1)\r\n",
      "Requirement already satisfied: korean-lunar-calendar in /opt/conda/lib/python3.10/site-packages (from holidays>=0.11.1->darts) (0.3.1)\r\n",
      "Requirement already satisfied: python-dateutil in /opt/conda/lib/python3.10/site-packages (from holidays>=0.11.1->darts) (2.8.2)\r\n",
      "Requirement already satisfied: contourpy>=1.0.1 in /opt/conda/lib/python3.10/site-packages (from matplotlib>=3.3.0->darts) (1.1.0)\r\n",
      "Requirement already satisfied: cycler>=0.10 in /opt/conda/lib/python3.10/site-packages (from matplotlib>=3.3.0->darts) (0.11.0)\r\n",
      "Requirement already satisfied: fonttools>=4.22.0 in /opt/conda/lib/python3.10/site-packages (from matplotlib>=3.3.0->darts) (4.40.0)\r\n",
      "Requirement already satisfied: kiwisolver>=1.0.1 in /opt/conda/lib/python3.10/site-packages (from matplotlib>=3.3.0->darts) (1.4.4)\r\n",
      "Requirement already satisfied: packaging>=20.0 in /opt/conda/lib/python3.10/site-packages (from matplotlib>=3.3.0->darts) (21.3)\r\n",
      "Requirement already satisfied: pillow>=6.2.0 in /opt/conda/lib/python3.10/site-packages (from matplotlib>=3.3.0->darts) (9.5.0)\r\n",
      "Requirement already satisfied: pyparsing<3.1,>=2.3.1 in /opt/conda/lib/python3.10/site-packages (from matplotlib>=3.3.0->darts) (3.0.9)\r\n",
      "Requirement already satisfied: pytz>=2020.1 in /opt/conda/lib/python3.10/site-packages (from pandas>=1.0.5->darts) (2023.3)\r\n",
      "Requirement already satisfied: tzdata>=2022.1 in /opt/conda/lib/python3.10/site-packages (from pandas>=1.0.5->darts) (2023.3)\r\n",
      "Requirement already satisfied: Cython!=0.29.18,!=0.29.31,>=0.29 in /opt/conda/lib/python3.10/site-packages (from pmdarima>=1.8.0->darts) (0.29.35)\r\n",
      "Requirement already satisfied: urllib3 in /opt/conda/lib/python3.10/site-packages (from pmdarima>=1.8.0->darts) (1.26.15)\r\n",
      "Requirement already satisfied: setuptools!=50.0.0,>=38.6.0 in /opt/conda/lib/python3.10/site-packages (from pmdarima>=1.8.0->darts) (68.0.0)\r\n",
      "Requirement already satisfied: numba>=0.51 in /opt/conda/lib/python3.10/site-packages (from pyod>=0.9.5->darts) (0.57.1)\r\n",
      "Requirement already satisfied: six in /opt/conda/lib/python3.10/site-packages (from pyod>=0.9.5->darts) (1.16.0)\r\n",
      "Requirement already satisfied: PyYAML>=5.4 in /opt/conda/lib/python3.10/site-packages (from pytorch-lightning>=1.5.0->darts) (6.0)\r\n",
      "Requirement already satisfied: fsspec[http]>2021.06.0 in /opt/conda/lib/python3.10/site-packages (from pytorch-lightning>=1.5.0->darts) (2023.9.0)\r\n",
      "Requirement already satisfied: torchmetrics>=0.7.0 in /opt/conda/lib/python3.10/site-packages (from pytorch-lightning>=1.5.0->darts) (1.1.1)\r\n",
      "Requirement already satisfied: lightning-utilities>=0.7.0 in /opt/conda/lib/python3.10/site-packages (from pytorch-lightning>=1.5.0->darts) (0.9.0)\r\n",
      "Requirement already satisfied: charset-normalizer<4,>=2 in /opt/conda/lib/python3.10/site-packages (from requests>=2.22.0->darts) (3.1.0)\r\n",
      "Requirement already satisfied: idna<4,>=2.5 in /opt/conda/lib/python3.10/site-packages (from requests>=2.22.0->darts) (3.4)\r\n",
      "Requirement already satisfied: certifi>=2017.4.17 in /opt/conda/lib/python3.10/site-packages (from requests>=2.22.0->darts) (2023.7.22)\r\n",
      "Requirement already satisfied: threadpoolctl>=2.0.0 in /opt/conda/lib/python3.10/site-packages (from scikit-learn>=1.0.1->darts) (3.1.0)\r\n",
      "Requirement already satisfied: slicer==0.0.7 in /opt/conda/lib/python3.10/site-packages (from shap>=0.40.0->darts) (0.0.7)\r\n",
      "Requirement already satisfied: cloudpickle in /opt/conda/lib/python3.10/site-packages (from shap>=0.40.0->darts) (2.2.1)\r\n",
      "Requirement already satisfied: polars in /opt/conda/lib/python3.10/site-packages (from statsforecast>=1.4->darts) (0.19.2)\r\n",
      "Collecting fugue>=0.8.1 (from statsforecast>=1.4->darts)\r\n",
      "  Downloading fugue-0.8.6-py3-none-any.whl (275 kB)\r\n",
      "\u001b[2K     \u001b[90m━━━━━━━━━━━━━━━━━━━━━━━━━━━━━━━━━━━━━━\u001b[0m \u001b[32m275.0/275.0 kB\u001b[0m \u001b[31m17.0 MB/s\u001b[0m eta \u001b[36m0:00:00\u001b[0m\r\n",
      "\u001b[?25hRequirement already satisfied: patsy>=0.5.2 in /opt/conda/lib/python3.10/site-packages (from statsmodels>=0.14.0->darts) (0.5.3)\r\n",
      "Requirement already satisfied: protobuf<4,>=3.8.0 in /opt/conda/lib/python3.10/site-packages (from tensorboardX>=2.1->darts) (3.20.3)\r\n",
      "Requirement already satisfied: filelock in /opt/conda/lib/python3.10/site-packages (from torch>=1.8.0->darts) (3.12.2)\r\n",
      "Requirement already satisfied: sympy in /opt/conda/lib/python3.10/site-packages (from torch>=1.8.0->darts) (1.12)\r\n",
      "Requirement already satisfied: networkx in /opt/conda/lib/python3.10/site-packages (from torch>=1.8.0->darts) (3.1)\r\n",
      "Requirement already satisfied: jinja2 in /opt/conda/lib/python3.10/site-packages (from torch>=1.8.0->darts) (3.1.2)\r\n",
      "Requirement already satisfied: aiohttp!=4.0.0a0,!=4.0.0a1 in /opt/conda/lib/python3.10/site-packages (from fsspec[http]>2021.06.0->pytorch-lightning>=1.5.0->darts) (3.8.4)\r\n",
      "Collecting triad>=0.9.1 (from fugue>=0.8.1->statsforecast>=1.4->darts)\r\n",
      "  Downloading triad-0.9.1-py3-none-any.whl (57 kB)\r\n",
      "\u001b[2K     \u001b[90m━━━━━━━━━━━━━━━━━━━━━━━━━━━━━━━━━━━━━━━━\u001b[0m \u001b[32m57.0/57.0 kB\u001b[0m \u001b[31m4.2 MB/s\u001b[0m eta \u001b[36m0:00:00\u001b[0m\r\n",
      "\u001b[?25hCollecting adagio>=0.2.4 (from fugue>=0.8.1->statsforecast>=1.4->darts)\r\n",
      "  Downloading adagio-0.2.4-py3-none-any.whl (26 kB)\r\n",
      "Requirement already satisfied: pyarrow>=0.15.1 in /opt/conda/lib/python3.10/site-packages (from fugue>=0.8.1->statsforecast>=1.4->darts) (9.0.0)\r\n",
      "Collecting qpd>=0.4.4 (from fugue>=0.8.1->statsforecast>=1.4->darts)\r\n",
      "  Downloading qpd-0.4.4-py3-none-any.whl (169 kB)\r\n",
      "\u001b[2K     \u001b[90m━━━━━━━━━━━━━━━━━━━━━━━━━━━━━━━━━━━━━━\u001b[0m \u001b[32m169.2/169.2 kB\u001b[0m \u001b[31m12.0 MB/s\u001b[0m eta \u001b[36m0:00:00\u001b[0m\r\n",
      "\u001b[?25hCollecting fugue-sql-antlr>=0.1.6 (from fugue>=0.8.1->statsforecast>=1.4->darts)\r\n",
      "  Downloading fugue-sql-antlr-0.1.8.tar.gz (154 kB)\r\n",
      "\u001b[2K     \u001b[90m━━━━━━━━━━━━━━━━━━━━━━━━━━━━━━━━━━━━━━\u001b[0m \u001b[32m154.7/154.7 kB\u001b[0m \u001b[31m11.7 MB/s\u001b[0m eta \u001b[36m0:00:00\u001b[0m\r\n",
      "\u001b[?25h  Preparing metadata (setup.py) ... \u001b[?25l-\b \bdone\r\n",
      "\u001b[?25hRequirement already satisfied: sqlglot in /opt/conda/lib/python3.10/site-packages (from fugue>=0.8.1->statsforecast>=1.4->darts) (17.16.2)\r\n",
      "Requirement already satisfied: llvmlite<0.41,>=0.40.0dev0 in /opt/conda/lib/python3.10/site-packages (from numba>=0.51->pyod>=0.9.5->darts) (0.40.1)\r\n",
      "Requirement already satisfied: MarkupSafe>=2.0 in /opt/conda/lib/python3.10/site-packages (from jinja2->torch>=1.8.0->darts) (2.1.3)\r\n",
      "Requirement already satisfied: mpmath>=0.19 in /opt/conda/lib/python3.10/site-packages (from sympy->torch>=1.8.0->darts) (1.3.0)\r\n",
      "Requirement already satisfied: attrs>=17.3.0 in /opt/conda/lib/python3.10/site-packages (from aiohttp!=4.0.0a0,!=4.0.0a1->fsspec[http]>2021.06.0->pytorch-lightning>=1.5.0->darts) (23.1.0)\r\n",
      "Requirement already satisfied: multidict<7.0,>=4.5 in /opt/conda/lib/python3.10/site-packages (from aiohttp!=4.0.0a0,!=4.0.0a1->fsspec[http]>2021.06.0->pytorch-lightning>=1.5.0->darts) (6.0.4)\r\n",
      "Requirement already satisfied: async-timeout<5.0,>=4.0.0a3 in /opt/conda/lib/python3.10/site-packages (from aiohttp!=4.0.0a0,!=4.0.0a1->fsspec[http]>2021.06.0->pytorch-lightning>=1.5.0->darts) (4.0.2)\r\n",
      "Requirement already satisfied: yarl<2.0,>=1.0 in /opt/conda/lib/python3.10/site-packages (from aiohttp!=4.0.0a0,!=4.0.0a1->fsspec[http]>2021.06.0->pytorch-lightning>=1.5.0->darts) (1.9.2)\r\n",
      "Requirement already satisfied: frozenlist>=1.1.1 in /opt/conda/lib/python3.10/site-packages (from aiohttp!=4.0.0a0,!=4.0.0a1->fsspec[http]>2021.06.0->pytorch-lightning>=1.5.0->darts) (1.3.3)\r\n",
      "Requirement already satisfied: aiosignal>=1.1.2 in /opt/conda/lib/python3.10/site-packages (from aiohttp!=4.0.0a0,!=4.0.0a1->fsspec[http]>2021.06.0->pytorch-lightning>=1.5.0->darts) (1.3.1)\r\n",
      "Collecting antlr4-python3-runtime<4.12 (from fugue-sql-antlr>=0.1.6->fugue>=0.8.1->statsforecast>=1.4->darts)\r\n",
      "  Downloading antlr4_python3_runtime-4.11.1-py3-none-any.whl (144 kB)\r\n",
      "\u001b[2K     \u001b[90m━━━━━━━━━━━━━━━━━━━━━━━━━━━━━━━━━━━━━━━\u001b[0m \u001b[32m144.2/144.2 kB\u001b[0m \u001b[31m9.6 MB/s\u001b[0m eta \u001b[36m0:00:00\u001b[0m\r\n",
      "\u001b[?25hCollecting fs (from triad>=0.9.1->fugue>=0.8.1->statsforecast>=1.4->darts)\r\n",
      "  Downloading fs-2.4.16-py2.py3-none-any.whl (135 kB)\r\n",
      "\u001b[2K     \u001b[90m━━━━━━━━━━━━━━━━━━━━━━━━━━━━━━━━━━━━━━━\u001b[0m \u001b[32m135.3/135.3 kB\u001b[0m \u001b[31m9.6 MB/s\u001b[0m eta \u001b[36m0:00:00\u001b[0m\r\n",
      "\u001b[?25hRequirement already satisfied: appdirs~=1.4.3 in /opt/conda/lib/python3.10/site-packages (from fs->triad>=0.9.1->fugue>=0.8.1->statsforecast>=1.4->darts) (1.4.4)\r\n",
      "Building wheels for collected packages: pyod, fugue-sql-antlr\r\n",
      "  Building wheel for pyod (setup.py) ... \u001b[?25l-\b \b\\\b \b|\b \b/\b \bdone\r\n",
      "\u001b[?25h  Created wheel for pyod: filename=pyod-1.1.0-py3-none-any.whl size=185331 sha256=c3eee070e69ebc84cdf9c065f07e960e9c336658a48ea80d350295185d713a3e\r\n",
      "  Stored in directory: /root/.cache/pip/wheels/36/8e/e2/e932956b10b843eb6be9eefa70b5c1bee7b561be14c423b136\r\n",
      "  Building wheel for fugue-sql-antlr (setup.py) ... \u001b[?25l-\b \b\\\b \bdone\r\n",
      "\u001b[?25h  Created wheel for fugue-sql-antlr: filename=fugue_sql_antlr-0.1.8-py3-none-any.whl size=158210 sha256=1a29b5d1085b6975a3de970b1fc67a89b34220cc78f175e14716fc5c85f74583\r\n",
      "  Stored in directory: /root/.cache/pip/wheels/a4/2b/3e/8ac985ad100a8f27de940864344fe14f47bc3d2fed7f29bf70\r\n",
      "Successfully built pyod fugue-sql-antlr\r\n",
      "Installing collected packages: antlr4-python3-runtime, fs, triad, pyod, nfoursid, pmdarima, fugue-sql-antlr, adagio, tbats, qpd, fugue, statsforecast, darts\r\n",
      "Successfully installed adagio-0.2.4 antlr4-python3-runtime-4.11.1 darts-0.26.0 fs-2.4.16 fugue-0.8.6 fugue-sql-antlr-0.1.8 nfoursid-1.0.1 pmdarima-2.0.4 pyod-1.1.0 qpd-0.4.4 statsforecast-1.6.0 tbats-1.1.3 triad-0.9.1\r\n",
      "Note: you may need to restart the kernel to use updated packages.\n"
     ]
    }
   ],
   "source": [
    "pip install darts"
   ]
  },
  {
   "cell_type": "code",
   "execution_count": 18,
   "id": "f8a80e30",
   "metadata": {
    "execution": {
     "iopub.execute_input": "2023-10-23T18:07:33.867266Z",
     "iopub.status.busy": "2023-10-23T18:07:33.866789Z",
     "iopub.status.idle": "2023-10-23T18:07:35.993556Z",
     "shell.execute_reply": "2023-10-23T18:07:35.992127Z"
    },
    "papermill": {
     "duration": 2.148995,
     "end_time": "2023-10-23T18:07:35.996832",
     "exception": false,
     "start_time": "2023-10-23T18:07:33.847837",
     "status": "completed"
    },
    "tags": []
   },
   "outputs": [],
   "source": [
    "from darts import TimeSeries\n",
    "from tqdm import tqdm"
   ]
  },
  {
   "cell_type": "code",
   "execution_count": 19,
   "id": "64d88aa3",
   "metadata": {
    "execution": {
     "iopub.execute_input": "2023-10-23T18:07:36.036151Z",
     "iopub.status.busy": "2023-10-23T18:07:36.035534Z",
     "iopub.status.idle": "2023-10-23T18:07:46.091186Z",
     "shell.execute_reply": "2023-10-23T18:07:46.089526Z"
    },
    "papermill": {
     "duration": 10.080833,
     "end_time": "2023-10-23T18:07:46.096066",
     "exception": false,
     "start_time": "2023-10-23T18:07:36.015233",
     "status": "completed"
    },
    "tags": []
   },
   "outputs": [
    {
     "name": "stderr",
     "output_type": "stream",
     "text": [
      "tqdm() Progress Bar: 100%|██████████| 20/20 [00:10<00:00,  1.99it/s]\n"
     ]
    }
   ],
   "source": [
    "from tqdm import tqdm\n",
    "import time\n",
    "for i in tqdm(range(20), desc = 'tqdm() Progress Bar'):\n",
    "    time.sleep(0.5)"
   ]
  }
 ],
 "metadata": {
  "kernelspec": {
   "display_name": "Python 3",
   "language": "python",
   "name": "python3"
  },
  "language_info": {
   "codemirror_mode": {
    "name": "ipython",
    "version": 3
   },
   "file_extension": ".py",
   "mimetype": "text/x-python",
   "name": "python",
   "nbconvert_exporter": "python",
   "pygments_lexer": "ipython3",
   "version": "3.10.12"
  },
  "papermill": {
   "default_parameters": {},
   "duration": 66.12237,
   "end_time": "2023-10-23T18:07:47.545818",
   "environment_variables": {},
   "exception": null,
   "input_path": "__notebook__.ipynb",
   "output_path": "__notebook__.ipynb",
   "parameters": {},
   "start_time": "2023-10-23T18:06:41.423448",
   "version": "2.4.0"
  }
 },
 "nbformat": 4,
 "nbformat_minor": 5
}
